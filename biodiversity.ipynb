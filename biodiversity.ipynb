{
 "cells": [
  {
   "cell_type": "markdown",
   "metadata": {},
   "source": [
    "Biodiversity"
   ]
  },
  {
   "cell_type": "code",
   "execution_count": 2,
   "metadata": {},
   "outputs": [],
   "source": [
    "# import necessary libraries\n",
    "import csv\n",
    "import matplotlib.pyplot as plt\n",
    "import pandas as pd\n",
    "import numpy as np\n",
    "import seaborn as sns"
   ]
  },
  {
   "cell_type": "code",
   "execution_count": 3,
   "metadata": {},
   "outputs": [
    {
     "name": "stdout",
     "output_type": "stream",
     "text": [
      "  category                scientific_name  \\\n",
      "0   Mammal  Clethrionomys gapperi gapperi   \n",
      "1   Mammal                      Bos bison   \n",
      "2   Mammal                     Bos taurus   \n",
      "3   Mammal                     Ovis aries   \n",
      "4   Mammal                 Cervus elaphus   \n",
      "\n",
      "                                        common_names conservation_status  \n",
      "0                           Gapper's Red-Backed Vole                 NaN  \n",
      "1                              American Bison, Bison                 NaN  \n",
      "2  Aurochs, Aurochs, Domestic Cattle (Feral), Dom...                 NaN  \n",
      "3  Domestic Sheep, Mouflon, Red Sheep, Sheep (Feral)                 NaN  \n",
      "4                                      Wapiti Or Elk                 NaN  \n",
      "(5824, 4)\n",
      "            scientific_name                            park_name  observations\n",
      "0        Vicia benghalensis  Great Smoky Mountains National Park            68\n",
      "1            Neovison vison  Great Smoky Mountains National Park            77\n",
      "2         Prunus subcordata               Yosemite National Park           138\n",
      "3      Abutilon theophrasti                  Bryce National Park            84\n",
      "4  Githopsis specularioides  Great Smoky Mountains National Park            85\n",
      "(23296, 3)\n"
     ]
    }
   ],
   "source": [
    "# read in csv files proivded\n",
    "spec_info = pd.read_csv('species_info.csv')\n",
    "obs = pd.read_csv('observations.csv')\n",
    "\n",
    "print(spec_info.head())\n",
    "print(spec_info.shape)\n",
    "print(obs.head())\n",
    "print(obs.shape)"
   ]
  },
  {
   "cell_type": "code",
   "execution_count": 4,
   "metadata": {},
   "outputs": [
    {
     "name": "stdout",
     "output_type": "stream",
     "text": [
      "         category scientific_name  \\\n",
      "0  Vascular Plant   Abies bifolia   \n",
      "1  Vascular Plant   Abies bifolia   \n",
      "2  Vascular Plant   Abies bifolia   \n",
      "3  Vascular Plant   Abies bifolia   \n",
      "4  Vascular Plant  Abies concolor   \n",
      "\n",
      "                                        common_names conservation_status  \\\n",
      "0                          Rocky Mountain Alpine Fir                 NaN   \n",
      "1                          Rocky Mountain Alpine Fir                 NaN   \n",
      "2                          Rocky Mountain Alpine Fir                 NaN   \n",
      "3                          Rocky Mountain Alpine Fir                 NaN   \n",
      "4  Balsam Fir, Colorado Fir, Concolor Fir, Silver...                 NaN   \n",
      "\n",
      "                             park_name  observations  \n",
      "0                  Bryce National Park           109  \n",
      "1            Yellowstone National Park           215  \n",
      "2  Great Smoky Mountains National Park            72  \n",
      "3               Yosemite National Park           136  \n",
      "4  Great Smoky Mountains National Park           101  \n",
      "(25632, 6)\n",
      "       observations\n",
      "count  25632.000000\n",
      "mean     142.214693\n",
      "std       69.912475\n",
      "min        9.000000\n",
      "25%       86.000000\n",
      "50%      124.000000\n",
      "75%      195.000000\n",
      "max      321.000000\n"
     ]
    }
   ],
   "source": [
    "# merge the two df, have similar column 'scientific_name'\n",
    "merged = pd.merge(spec_info, obs, how='outer')\n",
    "print(merged.head())\n",
    "print(merged.shape)\n",
    "print(merged.describe())\n",
    "\n",
    "merged.to_csv('merged.csv', index=False)"
   ]
  },
  {
   "cell_type": "code",
   "execution_count": 9,
   "metadata": {},
   "outputs": [
    {
     "name": "stdout",
     "output_type": "stream",
     "text": [
      "         category scientific_name  \\\n",
      "0  Vascular Plant   Abies bifolia   \n",
      "1  Vascular Plant   Abies bifolia   \n",
      "2  Vascular Plant   Abies bifolia   \n",
      "3  Vascular Plant   Abies bifolia   \n",
      "4  Vascular Plant  Abies concolor   \n",
      "\n",
      "                                        common_names conservation_status  \\\n",
      "0                          Rocky Mountain Alpine Fir                None   \n",
      "1                          Rocky Mountain Alpine Fir                None   \n",
      "2                          Rocky Mountain Alpine Fir                None   \n",
      "3                          Rocky Mountain Alpine Fir                None   \n",
      "4  Balsam Fir, Colorado Fir, Concolor Fir, Silver...                None   \n",
      "\n",
      "                             park_name  observations  \n",
      "0                  Bryce National Park           109  \n",
      "1            Yellowstone National Park           215  \n",
      "2  Great Smoky Mountains National Park            72  \n",
      "3               Yosemite National Park           136  \n",
      "4  Great Smoky Mountains National Park           101  \n"
     ]
    },
    {
     "data": {
      "text/plain": [
       "<Axes: xlabel='count', ylabel='conservation_status'>"
      ]
     },
     "execution_count": 9,
     "metadata": {},
     "output_type": "execute_result"
    },
    {
     "data": {
      "image/png": "[encoded data removed]",
      "text/plain": [
       "<Figure size 640x480 with 1 Axes>"
      ]
     },
     "metadata": {},
     "output_type": "display_data"
    }
   ],
   "source": [
    "# What is the distribution of conservation_status for animals?\n",
    "# find conservation status\n",
    "merged['conservation_status'] = merged['conservation_status'].fillna('None')\n",
    "print(merged.head())\n",
    "\n",
    "sns.countplot(merged.conservation_status, order=merged['conservation_status'].value_counts(ascending=True).index)"
   ]
  },
  {
   "cell_type": "code",
   "execution_count": 10,
   "metadata": {},
   "outputs": [
    {
     "name": "stdout",
     "output_type": "stream",
     "text": [
      "category\n",
      "scientific_name\n",
      "common_names\n",
      "conservation_status\n",
      "park_name\n",
      "observations\n"
     ]
    }
   ],
   "source": [
    "# Are certain types of species more likely to be endangered?\n",
    "for row in merged:\n",
    "    print(row)"
   ]
  },
  {
   "cell_type": "code",
   "execution_count": null,
   "metadata": {},
   "outputs": [],
   "source": [
    "# Are the differences between species and their conservation status significant?\n"
   ]
  },
  {
   "cell_type": "code",
   "execution_count": null,
   "metadata": {},
   "outputs": [],
   "source": [
    "# Which species were spotted the most at each park?\n"
   ]
  }
 ],
 "metadata": {
  "kernelspec": {
   "display_name": "Python 3",
   "language": "python",
   "name": "python3"
  },
  "language_info": {
   "codemirror_mode": {
    "name": "ipython",
    "version": 3
   },
   "file_extension": ".py",
   "mimetype": "text/x-python",
   "name": "python",
   "nbconvert_exporter": "python",
   "pygments_lexer": "ipython3",
   "version": "3.12.1"
  }
 },
 "nbformat": 4,
 "nbformat_minor": 4
}
